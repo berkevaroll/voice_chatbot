{
 "cells": [
  {
   "cell_type": "code",
   "execution_count": 49,
   "id": "fd1d0f78",
   "metadata": {},
   "outputs": [],
   "source": [
    "#preprocess\n",
    "import json\n",
    "import nltk\n",
    "from nltk.stem.porter import PorterStemmer\n",
    "#model and training\n",
    "import numpy as np\n",
    "import torch\n",
    "import torch.nn as nn\n",
    "from torch.utils.data import Dataset, DataLoader\n",
    "#chatbot\n",
    "import random\n",
    "#from nltk_utils import bag_of_words, tokenize\n",
    "\n",
    "import warnings\n",
    "\n",
    "warnings.filterwarnings(\"ignore\")"
   ]
  },
  {
   "cell_type": "code",
   "execution_count": 50,
   "id": "5979f0b6",
   "metadata": {},
   "outputs": [],
   "source": [
    "#nltk utils\n",
    "\n",
    "stemmer = PorterStemmer()\n",
    "\n",
    "def tokenize(sentence):\n",
    "    \"\"\"\n",
    "    split sentence into array of words/tokens\n",
    "    a token can be a word or punctuation character, or number\n",
    "    \"\"\"\n",
    "    return nltk.word_tokenize(sentence)\n",
    "\n",
    "\n",
    "def stem(word):\n",
    "    return stemmer.stem(word.lower())\n",
    "\n",
    "\n",
    "def bag_of_words(tokenized_sentence, words):\n",
    "    tokenized_sentence = [stem(w) for w in tokenized_sentence]\n",
    "    bag = np.zeros(len(all_words), dtype=np.float32)\n",
    "    for index, word in enumerate(all_words):\n",
    "        if word in tokenized_sentence:\n",
    "            bag[index] = 1.0\n",
    "    return bag"
   ]
  },
  {
   "cell_type": "code",
   "execution_count": 51,
   "id": "bc448c67",
   "metadata": {},
   "outputs": [],
   "source": [
    "#preprocessing training data\n",
    "with open('intents.json', 'r') as f:\n",
    "    intents = json.load(f)\n",
    "\n",
    "all_words = []\n",
    "tags = []\n",
    "xy = []\n",
    "\n",
    "#collecting words with corresponding tags\n",
    "for intent in intents['intents']:\n",
    "    tag = intent['tag']\n",
    "    tags.append(tag)\n",
    "    for pattern in intent['patterns']:\n",
    "        w = tokenize(pattern)\n",
    "        all_words.extend(w)\n",
    "        xy.append((w, tag))\n",
    "\n",
    "ignore_words = ['.', '!', ',', '?']\n",
    "\n",
    "#stemming all_words / removing ignore words\n",
    "all_words = [stem(w) for w in all_words if w not in ignore_words]\n",
    "#sorting all_words alphabetically\n",
    "all_words = sorted(set(all_words))\n",
    "#sorting tags alphabetically\n",
    "tags = sorted(set(tags))"
   ]
  },
  {
   "cell_type": "code",
   "execution_count": 31,
   "id": "e853fb21",
   "metadata": {},
   "outputs": [],
   "source": [
    "#preparing training data\n",
    "x_train = []\n",
    "y_train = []\n",
    "\n",
    "for(pattern_sentence, tag) in xy:\n",
    "    bag = bag_of_words(pattern_sentence, all_words)\n",
    "    x_train.append(bag)\n",
    "    \n",
    "    label = tags.index(tag)\n",
    "    y_train.append(label)\n",
    "    \n",
    "x_train = np.array(x_train)\n",
    "y_train = np.array(y_train)\n",
    "#creating pytorch dataset\n",
    "class ChatDataset(Dataset):\n",
    "    \n",
    "    def __init__(self):\n",
    "        self.n_samples = len(x_train)\n",
    "        self.x_data = x_train\n",
    "        self.y_data = y_train\n",
    "        \n",
    "    #dataset[index]\n",
    "    def __getitem__(self, index):\n",
    "        return self.x_data[index], self.y_data[index]\n",
    "    \n",
    "    def __len__(self):\n",
    "        return self.n_samples"
   ]
  },
  {
   "cell_type": "code",
   "execution_count": 32,
   "id": "0c7626c0",
   "metadata": {},
   "outputs": [],
   "source": [
    "#pytorch model\n",
    "\n",
    "class NeuralNet(nn.Module):\n",
    "    def __init__(self, input_size, hidden_size, num_of_classes):\n",
    "        super(NeuralNet, self).__init__()\n",
    "        self.layer1 = nn.Linear(input_size, hidden_size)\n",
    "        self.layer2 = nn.Linear(hidden_size, hidden_size)\n",
    "        self.layer3 = nn.Linear(hidden_size, num_of_classes)\n",
    "        self.relu = nn.ReLU()\n",
    "        \n",
    "    def forward(self, x):\n",
    "        output = self.layer1(x)\n",
    "        output = self.relu(output)\n",
    "        output = self.layer2(output)\n",
    "        output = self.relu(output)\n",
    "        output = self.layer3(output)\n",
    "        #no activation and no softmax (included in CrossEntropyLoss which will be used later)\n",
    "        return output\n",
    "        "
   ]
  },
  {
   "cell_type": "code",
   "execution_count": 36,
   "id": "f3f74574",
   "metadata": {},
   "outputs": [
    {
     "name": "stdout",
     "output_type": "stream",
     "text": [
      "epoch 100/1000, loss=1.1391\n",
      "epoch 200/1000, loss=0.0610\n",
      "epoch 300/1000, loss=0.0552\n",
      "epoch 400/1000, loss=0.0076\n",
      "epoch 500/1000, loss=0.0040\n",
      "epoch 600/1000, loss=0.0033\n",
      "epoch 700/1000, loss=0.0037\n",
      "epoch 800/1000, loss=0.0020\n",
      "epoch 900/1000, loss=0.0019\n",
      "epoch 1000/1000, loss=0.0007\n",
      "final loss, loss=0.0007\n"
     ]
    }
   ],
   "source": [
    "#Hyperparameters\n",
    "batch_size = 8\n",
    "hidden_size = 8\n",
    "output_size = len(tags)\n",
    "input_size = len(x_train[0])\n",
    "learning_rate = 0.001\n",
    "num_of_epochs = 1000\n",
    "\n",
    "dataset = ChatDataset()\n",
    "train_loader = DataLoader(dataset=dataset, batch_size=batch_size, shuffle=True, num_workers=0)\n",
    "\n",
    "device = torch.device('cuda' if torch.cuda.is_available() else 'cpu')\n",
    "model = NeuralNet(input_size, hidden_size, output_size).to(device)\n",
    "\n",
    "#loss and optimizer\n",
    "criterion = nn.CrossEntropyLoss()\n",
    "optimizer = torch.optim.Adam(model.parameters(), lr=learning_rate)\n",
    "\n",
    "for epoch in range(num_of_epochs):\n",
    "    for(words, labels) in train_loader:\n",
    "        words = words.to(device)\n",
    "        labels = labels.to(device,  dtype=torch.long)\n",
    "        \n",
    "        #forward\n",
    "        outputs = model(words)\n",
    "        loss = criterion(outputs, labels)\n",
    "        \n",
    "        #backward and optimizer step\n",
    "        optimizer.zero_grad()\n",
    "        loss.backward()\n",
    "        optimizer.step()\n",
    "    if(epoch + 1) % 100 == 0:\n",
    "        print(f'epoch {epoch+1}/{num_of_epochs}, loss={loss.item():.4f}')\n",
    "print(f'final loss, loss={loss.item():.4f}')"
   ]
  },
  {
   "cell_type": "code",
   "execution_count": 37,
   "id": "1d22f783",
   "metadata": {},
   "outputs": [
    {
     "name": "stdout",
     "output_type": "stream",
     "text": [
      "Training complete. File saved to data.pth\n"
     ]
    }
   ],
   "source": [
    "#save the model\n",
    "data = {\n",
    "    \"model_state\": model.state_dict(),\n",
    "    \"input_size\": input_size,\n",
    "    \"output_size\": output_size,\n",
    "    \"hidden_size\": hidden_size,\n",
    "    \"all_words\": all_words,\n",
    "    \"tags\": tags\n",
    "}\n",
    "\n",
    "FILE = \"data.pth\"\n",
    "torch.save(data, FILE)\n",
    "\n",
    "print(f'Training complete. File saved to {FILE}')"
   ]
  },
  {
   "cell_type": "code",
   "execution_count": 40,
   "id": "015cc7a5",
   "metadata": {},
   "outputs": [
    {
     "data": {
      "text/plain": [
       "NeuralNet(\n",
       "  (layer1): Linear(in_features=54, out_features=8, bias=True)\n",
       "  (layer2): Linear(in_features=8, out_features=8, bias=True)\n",
       "  (layer3): Linear(in_features=8, out_features=7, bias=True)\n",
       "  (relu): ReLU()\n",
       ")"
      ]
     },
     "execution_count": 40,
     "metadata": {},
     "output_type": "execute_result"
    }
   ],
   "source": [
    "#using the saved model\n",
    "\n",
    "FILE = \"data.pth\"\n",
    "data = torch.load(FILE)\n",
    "\n",
    "model_state = data[\"model_state\"]\n",
    "\n",
    "loaded_model = NeuralNet(input_size, hidden_size, output_size).to(device)\n",
    "loaded_model.load_state_dict(model_state)\n",
    "loaded_model.eval()"
   ]
  },
  {
   "cell_type": "code",
   "execution_count": null,
   "id": "45ddb389",
   "metadata": {},
   "outputs": [
    {
     "name": "stdout",
     "output_type": "stream",
     "text": [
      "Chat, let's do! 'I have the force' to exit, type you must\n",
      "Young Jedi: how do you\n",
      "Yoda: Hello, thanks for visiting\n",
      "Young Jedi: what do you sell\n",
      "Yoda: We sell coffee and tea\n",
      "Young Jedi: howdy\n",
      "Yoda: Hi there, what can I do for you?\n",
      "Young Jedi: wassup\n",
      "Yoda: Hi there, what can I do for you?\n",
      "Young Jedi: sup\n",
      "Yoda: Hi there, how can I help?\n",
      "Young Jedi: can you tell me how to be the strongest jedi?\n",
      "Yoda: What did the buffalo say when his son left for college? Bison.\n",
      "Young Jedi: you think this is a joke >:(\n",
      "Yoda: Why did the hipster burn his mouth? He drank the coffee before it was cool.\n"
     ]
    }
   ],
   "source": [
    "#constructing our chatbot\n",
    "\n",
    "bot_name = \"Yoda\"\n",
    "print(\"Chat, let's do! 'I have the force' to exit, type you must\")\n",
    "while True:\n",
    "    sentence = input('Young Jedi: ')\n",
    "    if sentence == \"I have the force\":\n",
    "        break\n",
    "    sentence = tokenize(sentence)\n",
    "    X = bag_of_words(sentence, all_words)\n",
    "    X = X.reshape(1, X.shape[0])\n",
    "    X = torch.from_numpy(X)\n",
    "    \n",
    "    output = loaded_model(X)\n",
    "    _, predicted = torch.max(output, dim=1)\n",
    "    tag = tags[predicted.item()]\n",
    "    \n",
    "    #calculating probabilities\n",
    "    probs = torch.softmax(output, dim=1)\n",
    "    actual_prob = probs[0][predicted.item()]\n",
    "    \n",
    "    if actual_prob.item() > 0.65:\n",
    "        for intent in intents[\"intents\"]:\n",
    "            if tag == intent[\"tag\"]:\n",
    "                print(f\"{bot_name}: {random.choice(intent['responses'])}\")\n",
    "    else:\n",
    "        print(f\"{bot_name}: Not wise enough, you are yet.\")\n"
   ]
  },
  {
   "cell_type": "code",
   "execution_count": null,
   "id": "a73eadbb",
   "metadata": {},
   "outputs": [],
   "source": []
  }
 ],
 "metadata": {
  "kernelspec": {
   "display_name": "Python 3",
   "language": "python",
   "name": "python3"
  },
  "language_info": {
   "codemirror_mode": {
    "name": "ipython",
    "version": 3
   },
   "file_extension": ".py",
   "mimetype": "text/x-python",
   "name": "python",
   "nbconvert_exporter": "python",
   "pygments_lexer": "ipython3",
   "version": "3.8.8"
  }
 },
 "nbformat": 4,
 "nbformat_minor": 5
}
